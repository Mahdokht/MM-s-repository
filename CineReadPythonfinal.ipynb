{
 "cells": [
  {
   "cell_type": "code",
   "execution_count": 33,
   "metadata": {
    "collapsed": false
   },
   "outputs": [],
   "source": [
    "import os\n",
    "import struct\n",
    "\n",
    "import cv2\n",
    "import numpy as np\n",
    "from docopt import docopt\n",
    "\n",
    "import cine\n",
    "from linLUT import linLUT\n",
    "\n",
    "\n",
    "def read_header(myfile):\n",
    "    with open(myfile, 'rb') as f:\n",
    "        header = {}\n",
    "        header['cinefileheader'] = cine.CINEFILEHEADER()\n",
    "        header['bitmapinfoheader'] = cine.BITMAPINFOHEADER()\n",
    "        header['setup'] = cine.SETUP()\n",
    "        f.readinto(header['cinefileheader'])\n",
    "        f.readinto(header['bitmapinfoheader'])\n",
    "        f.readinto(header['setup'])\n",
    "\n",
    "        # header_length = ctypes.sizeof(header['cinefileheader'])\n",
    "        # bitmapinfo_length = ctypes.sizeof(header['bitmapinfoheader'])\n",
    "\n",
    "        f.seek(header['cinefileheader'].OffImageOffsets)\n",
    "        header['pImage'] = struct.unpack('{}q'.format(header['cinefileheader'].ImageCount),\n",
    "                                         f.read(header['cinefileheader'].ImageCount * 8))\n",
    "\n",
    "    return header\n",
    "\n",
    "\n",
    "def unpack_10bit(data, width, height):\n",
    "    packed = np.frombuffer(data, dtype='uint8').astype('uint16')\n",
    "    unpacked = np.zeros([height, width], dtype='uint16')\n",
    "\n",
    "    unpacked.flat[::4] = (packed[::5] << 2) | (packed[1::5] >> 6)\n",
    "    unpacked.flat[1::4] = ((packed[1::5] & 0b00111111) << 4) | (packed[2::5] >> 4)\n",
    "    unpacked.flat[2::4] = ((packed[2::5] & 0b00001111) << 6) | (packed[3::5] >> 2)\n",
    "    unpacked.flat[3::4] = ((packed[3::5] & 0b00000011) << 8) | packed[4::5]\n",
    "\n",
    "    return unpacked\n",
    "\n",
    "\n",
    "def create_raw_array(data, header):\n",
    "    width, height = header['bitmapinfoheader'].biWidth, header['bitmapinfoheader'].biHeight\n",
    "    BayerPatterns = {3: 'gbrg', 4: 'rggb'}\n",
    "    #pattern = BayerPatterns[header['setup'].CFA]\n",
    "\n",
    "    #if header['bitmapinfoheader'].biCompression:\n",
    "    raw_image = unpack_10bit(data, width, height)\n",
    "        #fix_bad_pixels(raw_image, header['setup'].WhiteLevel, pattern)\n",
    "    raw_image = linLUT[raw_image].astype(np.uint16)\n",
    "    raw_image = np.interp(raw_image, [64, 4064], [0, 2**12-1]).astype(np.uint16)\n",
    "    #else:\n",
    "    #    raw_image = np.frombuffer(data, dtype='uint16')\n",
    "    #    raw_image.shape = (height, width)\n",
    "    #    #fix_bad_pixels(raw_image, header['setup'].WhiteLevel, pattern)\n",
    "    #    raw_image = np.flipud(raw_image)\n",
    "    #    raw_image = np.interp(raw_image, [header['setup'].BlackLevel, header['setup'].WhiteLevel],\n",
    "    #                                     [0, 2**header['setup'].RealBPP-1]).astype(np.uint16)\n",
    "\n",
    "    return raw_image, width, height\n",
    "\n",
    "\n",
    "\n",
    "def frame_reader(myfile, header, start_frame=1, count=1):\n",
    "    frame = start_frame\n",
    "    with open(myfile, 'rb') as f:\n",
    "       \n",
    "        frame_index = frame - 1\n",
    "        print \"Reading frame {}\".format(frame)\n",
    "\n",
    "        f.seek(header['pImage'][frame_index])\n",
    "\n",
    "        AnnotationSize = struct.unpack('I', f.read(4))[0]\n",
    "        Annotation = struct.unpack('{}B'.format(AnnotationSize - 8),\n",
    "                                           f.read((AnnotationSize - 8) / 8))\n",
    "        header[\"Annotation\"] = Annotation\n",
    "\n",
    "        ImageSize = struct.unpack('I', f.read(4))[0]\n",
    "\n",
    "        data = f.read(ImageSize)\n",
    "\n",
    "        raw_image, width, height = create_raw_array(data, header)\n",
    "            \n",
    "        frame += 1\n",
    "        count -= 1\n",
    "    return raw_image.reshape(height,width)\n",
    "\n"
   ]
  },
  {
   "cell_type": "code",
   "execution_count": 28,
   "metadata": {
    "collapsed": false
   },
   "outputs": [
    {
     "name": "stdout",
     "output_type": "stream",
     "text": [
      "Reading frame 1\n"
     ]
    }
   ],
   "source": [
    "myfile = \"/Users/mahdokhtmasaeli/Documents/DeepcellVideo/100316-10umbeads-100ulmin-0610.cine\"\n",
    "header = read_header(\"/Users/mahdokhtmasaeli/Documents/DeepcellVideo/100316-10umbeads-100ulmin-0610.cine\")\n",
    "mat_image = frame_reader(myfile,header, start_frame=1, count = 1)\n"
   ]
  },
  {
   "cell_type": "code",
   "execution_count": null,
   "metadata": {
    "collapsed": false
   },
   "outputs": [],
   "source": []
  },
  {
   "cell_type": "code",
   "execution_count": null,
   "metadata": {
    "collapsed": false
   },
   "outputs": [],
   "source": []
  },
  {
   "cell_type": "code",
   "execution_count": null,
   "metadata": {
    "collapsed": false
   },
   "outputs": [],
   "source": []
  },
  {
   "cell_type": "code",
   "execution_count": null,
   "metadata": {
    "collapsed": false
   },
   "outputs": [],
   "source": []
  },
  {
   "cell_type": "code",
   "execution_count": null,
   "metadata": {
    "collapsed": true
   },
   "outputs": [],
   "source": []
  },
  {
   "cell_type": "code",
   "execution_count": null,
   "metadata": {
    "collapsed": true
   },
   "outputs": [],
   "source": []
  }
 ],
 "metadata": {
  "kernelspec": {
   "display_name": "Python 2",
   "language": "python",
   "name": "python2"
  },
  "language_info": {
   "codemirror_mode": {
    "name": "ipython",
    "version": 2
   },
   "file_extension": ".py",
   "mimetype": "text/x-python",
   "name": "python",
   "nbconvert_exporter": "python",
   "pygments_lexer": "ipython2",
   "version": "2.7.11"
  }
 },
 "nbformat": 4,
 "nbformat_minor": 0
}
