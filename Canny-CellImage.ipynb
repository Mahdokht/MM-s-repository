{
 "cells": [
  {
   "cell_type": "code",
   "execution_count": 1,
   "metadata": {
    "collapsed": false,
    "scrolled": true
   },
   "outputs": [],
   "source": [
    "import glob, os\n",
    "from PIL import Image\n",
    "import numpy as np\n",
    "import matplotlib.pyplot as plt\n",
    "from scipy import ndimage as ndi\n",
    "from skimage import feature\n",
    "\n",
    "k=1\n",
    "lineMat = np.zeros((120,120))\n",
    "x=[i for i in range(min(60*(k-1)/k,(120+60*(k-1))/k),max(60*(k-1)/k,(120+60*(k-1))/k)-1)]\n",
    "y=[j*k-60*(k-1)-1 for j in x]\n",
    "lineMat[x,y]=1\n",
    "Sigma =1.3\n",
    "os.chdir(\"/Users/mahdokhtmasaeli/GitHub/MM-s-repository/Images/geese_RBC/\")\n",
    "numcanny_Geese=[]\n",
    "numCross_Geese=[]\n",
    "for file in glob.glob(\"*.tif\"):\n",
    "    myimage = Image.open(file)\n",
    "    imarray = np.array(myimage)\n",
    "    imarrayBW = imarray[:,:,1]\n",
    "    cannyImg = feature.canny(imarrayBW, sigma=Sigma)\n",
    "    numcanny_Geese.append(np.sum(cannyImg))\n",
    "    numCross_Geese.append(sum(sum((np.array(cannyImg)*np.array(lineMat)))))\n",
    "    \n",
    "os.chdir(\"/Users/mahdokhtmasaeli/GitHub/MM-s-repository/Images/adult_RBC/\")\n",
    "numcanny_RBC=[]\n",
    "numCross_RBC=[]\n",
    "for file in glob.glob(\"*.tif\"):\n",
    "    myimage = Image.open(file)\n",
    "    imarray = np.array(myimage)\n",
    "    imarrayBW = imarray\n",
    "    cannyImg = feature.canny(imarrayBW, sigma=Sigma)\n",
    "    numcanny_RBC.append(np.sum(cannyImg))\n",
    "    numCross_RBC.append(sum(sum((np.array(cannyImg)*np.array(lineMat)))))\n",
    "    \n",
    "os.chdir(\"/Users/mahdokhtmasaeli/GitHub/MM-s-repository/Images/adult_WBC/\")\n",
    "numcanny_WBC=[]\n",
    "numCross_WBC=[]\n",
    "for file in glob.glob(\"*.tif\"):\n",
    "    myimage = Image.open(file)\n",
    "    imarray = np.array(myimage)\n",
    "    imarrayBW = imarray[:,:,1]\n",
    "    cannyImg = feature.canny(imarrayBW, sigma=Sigma)\n",
    "    numcanny_WBC.append(np.sum(cannyImg))\n",
    "    numCross_WBC.append(sum(sum((np.array(cannyImg)*np.array(lineMat)))))   "
   ]
  },
  {
   "cell_type": "code",
   "execution_count": 2,
   "metadata": {
    "collapsed": false
   },
   "outputs": [],
   "source": [
    "bins = np.linspace(0, 20, 20)\n",
    "\n",
    "plt.hist(numCross_Geese, bins, alpha=0.5, label='geese RBC')\n",
    "plt.hist(numCross_RBC, bins, alpha=0.5, label='adult RBC')\n",
    "plt.legend(loc='upper right')\n",
    "plt.xlabel(\"Number of times edge crosses y=x line\")\n",
    "plt.ylabel(\"Count\")\n",
    "plt.show()"
   ]
  },
  {
   "cell_type": "code",
   "execution_count": 3,
   "metadata": {
    "collapsed": false
   },
   "outputs": [],
   "source": [
    "bins = np.linspace(0, 700, 50)\n",
    "\n",
    "plt.hist(numcanny_Geese, bins, alpha=0.5, label='geese RBC')\n",
    "plt.hist(numcanny_RBC, bins, alpha=0.5, label='adult RBC')\n",
    "plt.legend(loc='upper right')\n",
    "plt.show()"
   ]
  },
  {
   "cell_type": "code",
   "execution_count": null,
   "metadata": {
    "collapsed": false
   },
   "outputs": [],
   "source": [
    "plt.imshow(feature.canny(imarrayBW))\n",
    "plt.show()"
   ]
  },
  {
   "cell_type": "code",
   "execution_count": 4,
   "metadata": {
    "collapsed": false
   },
   "outputs": [],
   "source": [
    "import glob, os\n",
    "from PIL import Image\n",
    "import numpy as np\n",
    "import matplotlib.pyplot as plt\n",
    "from scipy import ndimage as ndi\n",
    "from skimage import feature\n",
    "\n",
    "\n",
    "Sigma =1.3\n",
    "WindowSize = 2\n",
    "WindowMat = np.zeros((120,120))\n",
    "WindowMat[60-1-WindowSize/2:60+1+WindowSize/2,60-1-WindowSize/2:60+1+WindowSize/2]=1\n",
    "os.chdir(\"/Users/mahdokhtmasaeli/GitHub/MM-s-repository/Images/geese_RBC/\")\n",
    "numcanny_Geese=[]\n",
    "numCross_Geese=[]\n",
    "entropy_Geese=[]\n",
    "centerint_Geese=[]\n",
    "for file in glob.glob(\"*.tif\"):\n",
    "    myimage = Image.open(file)\n",
    "    imarray = np.array(myimage)\n",
    "    imarrayBW = imarray[:,:,1]\n",
    "    cannyImg = feature.canny(imarrayBW, sigma=Sigma)\n",
    "    numcanny_Geese.append(np.sum(cannyImg))\n",
    "    cannyCrossSum=0\n",
    "    for k in [-1,1]:\n",
    "        lineMat = np.zeros((120,120))\n",
    "        x=[i for i in range(min(60*(k-1)/k,(120+60*(k-1))/k),max(60*(k-1)/k,(120+60*(k-1))/k)-1)]\n",
    "        y=[j*k-60*(k-1)-1 for j in x]\n",
    "        lineMat[x,y]=1\n",
    "        cannyCrossSum = cannyCrossSum+sum(sum((np.array(cannyImg)*np.array(lineMat))))\n",
    "    numCross_Geese.append(cannyCrossSum)\n",
    "    imhist, bins = np.histogram(imarrayBW)\n",
    "    ent =  np.sum(imhist*np.log2(imhist))\n",
    "    entropy_Geese.append(ent)\n",
    "    centerint_Geese.append(sum(sum(imarrayBW*WindowMat)))\n",
    "os.chdir(\"/Users/mahdokhtmasaeli/GitHub/MM-s-repository/Images/adult_RBC/\")\n",
    "numcanny_RBC=[]\n",
    "numCross_RBC=[]\n",
    "entropy_RBC=[]\n",
    "centerint_RBC=[]\n",
    "for file in glob.glob(\"*.tif\"):\n",
    "    myimage = Image.open(file)\n",
    "    imarray = np.array(myimage)\n",
    "    imarrayBW = imarray\n",
    "    cannyImg = feature.canny(imarrayBW, sigma=Sigma)\n",
    "    numcanny_RBC.append(np.sum(cannyImg))\n",
    "    cannyCrossSum=0\n",
    "    for k in [-2,-1,1,2]:\n",
    "        lineMat = np.zeros((120,120))\n",
    "        x=[i for i in range(min(60*(k-1)/k,(120+60*(k-1))/k),max(60*(k-1)/k,(120+60*(k-1))/k)-1)]\n",
    "        y=[j*k-60*(k-1)-1 for j in x]\n",
    "        lineMat[x,y]=1\n",
    "        cannyCrossSum = cannyCrossSum+sum(sum((np.array(cannyImg)*np.array(lineMat))))\n",
    "    numCross_RBC.append(cannyCrossSum)\n",
    "    imhist, bins = np.histogram(imarrayBW)\n",
    "    ent =  np.sum(imhist*np.log2(imhist))\n",
    "    entropy_RBC.append(ent)\n",
    "    centerint_RBC.append(sum(sum(imarrayBW*WindowMat)))\n",
    "\n",
    "os.chdir(\"/Users/mahdokhtmasaeli/GitHub/MM-s-repository/Images/WBC-8bit/\")\n",
    "numcanny_WBC=[]\n",
    "numCross_WBC=[]\n",
    "entropy_WBC=[]\n",
    "centerint_WBC=[]\n",
    "for file in glob.glob(\"*.tif\"):\n",
    "    myimage = Image.open(file)\n",
    "    imarray = np.array(myimage)\n",
    "    imarrayBW = imarray\n",
    "    cannyImg = feature.canny(imarrayBW, sigma=Sigma)\n",
    "    numcanny_WBC.append(np.sum(cannyImg))\n",
    "    cannyCrossSum=0\n",
    "    for k in [-2,-1,1,2]:\n",
    "        lineMat = np.zeros((120,120))\n",
    "        x=[i for i in range(min(60*(k-1)/k,(120+60*(k-1))/k),max(60*(k-1)/k,(120+60*(k-1))/k)-1)]\n",
    "        y=[j*k-60*(k-1)-1 for j in x]\n",
    "        lineMat[x,y]=1\n",
    "        cannyCrossSum = cannyCrossSum+sum(sum((np.array(cannyImg)*np.array(lineMat))))\n",
    "    numCross_WBC.append(cannyCrossSum)\n",
    "    imhist, bins = np.histogram(imarrayBW)\n",
    "    ent =  np.sum(imhist*np.log2(imhist))\n",
    "    entropy_WBC.append(ent)\n",
    "    centerint_WBC.append(sum(sum(imarrayBW*WindowMat)))\n",
    "\n",
    "os.chdir(\"/Users/mahdokhtmasaeli/GitHub/MM-s-repository/Images/Erythroblast-tiff/\")\n",
    "numcanny_cord=[]\n",
    "numCross_cord=[]\n",
    "entropy_cord=[]\n",
    "centerint_cord=[]\n",
    "for file in glob.glob(\"*.tif\"):\n",
    "    myimage = Image.open(file)\n",
    "    imarray = np.array(myimage)\n",
    "    imarrayBW = imarray\n",
    "    cannyImg = feature.canny(imarrayBW, sigma=Sigma)\n",
    "    numcanny_cord.append(np.sum(cannyImg))\n",
    "    cannyCrossSum=0\n",
    "    for k in [-2,-1,1,2]:\n",
    "        lineMat = np.zeros((120,120))\n",
    "        x=[i for i in range(min(60*(k-1)/k,(120+60*(k-1))/k),max(60*(k-1)/k,(120+60*(k-1))/k)-1)]\n",
    "        y=[j*k-60*(k-1)-1 for j in x]\n",
    "        lineMat[x,y]=1\n",
    "        cannyCrossSum = cannyCrossSum+sum(sum((np.array(cannyImg)*np.array(lineMat))))\n",
    "    numCross_cord.append(cannyCrossSum)\n",
    "    imhist, bins = np.histogram(imarrayBW)\n",
    "    ent =  np.sum(imhist*np.log2(imhist))\n",
    "    entropy_cord.append(ent) \n",
    "    centerint_cord.append(sum(sum(imarrayBW*WindowMat)))\n"
   ]
  },
  {
   "cell_type": "code",
   "execution_count": 5,
   "metadata": {
    "collapsed": false
   },
   "outputs": [],
   "source": [
    "plt.figure()\n",
    "bins = np.linspace(0, 55, 30)\n",
    "plt.hist(numCross_WBC, bins, alpha=0.5, label='adult WBC')\n",
    "plt.hist(numCross_cord, bins, alpha=0.5, label='erythroblast')\n",
    "\n",
    "plt.legend(loc='upper right')\n",
    "plt.xlabel(\"Number of times edge crosses y=-x,x lines\")\n",
    "plt.ylabel(\"Count\")\n",
    "plt.show()"
   ]
  },
  {
   "cell_type": "code",
   "execution_count": 6,
   "metadata": {
    "collapsed": false
   },
   "outputs": [],
   "source": [
    "bins = np.linspace(150000, 190000, 40)\n",
    "\n",
    "plt.hist(entropy_RBC, bins, alpha=0.5, label='adult RBC')\n",
    "plt.hist(entropy_WBC, bins, alpha=0.5, label='adult WBC')\n",
    "plt.hist(entropy_cord, bins, alpha=0.5, label='cord nucleated')\n",
    "plt.legend(loc='upper right')\n",
    "plt.xlabel(\"Number of times edge crosses y=-x,x lines\")\n",
    "plt.ylabel(\"Count\")\n",
    "plt.show()"
   ]
  },
  {
   "cell_type": "code",
   "execution_count": 7,
   "metadata": {
    "collapsed": false
   },
   "outputs": [],
   "source": [
    "bins = np.linspace(1000, 20000, 20)\n",
    "plt.hist((np.array(entropy_WBC)-20000)/400*np.array(numCross_WBC), bins, alpha=0.5, label='adult WBC')\n",
    "plt.hist((np.array(entropy_cord)-20000)/400*np.array(numCross_cord), bins, alpha=0.5, label='erythroblast')\n",
    "plt.legend(loc='upper right')\n",
    "plt.xlabel(\"Number of times edge crosses y=-x,x lines\")\n",
    "plt.ylabel(\"Count\")\n",
    "plt.show()"
   ]
  },
  {
   "cell_type": "code",
   "execution_count": 8,
   "metadata": {
    "collapsed": false
   },
   "outputs": [],
   "source": [
    "plt.figure(2)\n",
    "bins = np.linspace(0, 4000, 20)\n",
    "plt.hist((np.array(centerint_RBC)), bins, alpha=0.5, label='adult RBC')\n",
    "plt.hist((np.array(centerint_WBC)), bins, alpha=0.5, label='adult WBC')\n",
    "plt.hist((np.array(centerint_cord)), bins, alpha=0.5, label='cord nucleated')\n",
    "plt.legend(loc='upper right')\n",
    "plt.xlabel(\"Number of times edge crosses y=-x,x lines\")\n",
    "plt.ylabel(\"Count\")\n",
    "plt.show()\n"
   ]
  },
  {
   "cell_type": "code",
   "execution_count": 9,
   "metadata": {
    "collapsed": false
   },
   "outputs": [],
   "source": [
    "bins = np.linspace(0, 6, 30)\n",
    "plt.hist(((np.array(centerint_RBC))/1000+1.2)*np.array(numCross_RBC)/25, bins, alpha=0.5, label='adult RBC')\n",
    "plt.hist(((np.array(centerint_WBC))/1000+1.2)*np.array(numCross_WBC)/25, bins, alpha=0.5, label='adult WBC')\n",
    "plt.hist(((np.array(centerint_cord))/1000+1.2)*np.array(numCross_cord)/25, bins, alpha=0.5, label='erythroblast')\n",
    "plt.legend(loc='upper right')\n",
    "plt.xlabel(\"Number of times edge crosses y=-x,x lines\")\n",
    "plt.ylabel(\"Count\")\n",
    "plt.show()\n",
    "\n"
   ]
  },
  {
   "cell_type": "code",
   "execution_count": 10,
   "metadata": {
    "collapsed": false
   },
   "outputs": [],
   "source": [
    "bins = np.linspace(0, 3, 30)\n",
    "plt.hist((1*(np.array(centerint_RBC)/10000<0.4)+1)*((1*(np.array(numCross_RBC))>30)), bins, alpha=0.5, label='adult RBC')\n",
    "plt.hist((1*(np.array(centerint_WBC)/10000<0.4)+1)*((1*(np.array(numCross_WBC))>30)), bins, alpha=0.5, label='adult WBC')\n",
    "plt.hist((1*(np.array(centerint_cord)/10000<0.4)+1)*((1*(np.array(numCross_cord))>30)), bins, alpha=0.5, label='erythroblast')\n",
    "plt.legend(loc='upper right')\n",
    "plt.xlabel(\"Number of times edge crosses y=-x,x lines\")\n",
    "plt.ylabel(\"Count\")\n",
    "plt.show()\n"
   ]
  },
  {
   "cell_type": "code",
   "execution_count": 220,
   "metadata": {
    "collapsed": false
   },
   "outputs": [
    {
     "data": {
      "text/plain": [
       "array([0, 2, 2, 2, 2, 2, 2, 2, 0, 2, 2, 2, 2, 2, 2, 2, 2, 2, 2, 2, 2, 2, 2,\n",
       "       0, 0, 2, 1, 2, 2, 0, 2, 2, 2, 2, 2, 2, 2, 2, 2, 2, 2, 2, 2, 2, 2, 0,\n",
       "       0, 0, 0, 2, 0, 0, 0, 0, 2, 0, 0, 0, 0, 2, 0, 0, 0, 2, 2, 2, 0, 0, 0,\n",
       "       0, 0, 0, 2, 2, 0, 2, 0, 2, 2, 2, 2, 0, 0, 2, 2, 0, 2, 2, 2, 0, 2, 0,\n",
       "       0, 2, 2, 0, 0, 0, 0, 0, 2, 2, 2, 0, 2, 2, 2])"
      ]
     },
     "execution_count": 220,
     "metadata": {},
     "output_type": "execute_result"
    }
   ],
   "source": [
    "(1*(np.array(centerint_cord)/1000<1.1)+1)*((1*(np.array(numCross_cord))<25))"
   ]
  },
  {
   "cell_type": "code",
   "execution_count": null,
   "metadata": {
    "collapsed": true
   },
   "outputs": [],
   "source": [
    "import numpy as np\n",
    "import scipy as sp\n",
    "import scipy.stats\n",
    "\n",
    "def mean_confidence_interval(data, confidence=0.99):\n",
    "    a = 1.0*np.array(data)\n",
    "    n = len(a)\n",
    "    m, se = np.mean(a), scipy.stats.sem(a)\n",
    "    h = se * sp.stats.t._ppf((1+confidence)/2., n-1)\n",
    "    return m, m-h, m+h"
   ]
  },
  {
   "cell_type": "code",
   "execution_count": null,
   "metadata": {
    "collapsed": false
   },
   "outputs": [],
   "source": [
    "mean_confidence_interval(numCross_WBC)"
   ]
  },
  {
   "cell_type": "code",
   "execution_count": null,
   "metadata": {
    "collapsed": false
   },
   "outputs": [],
   "source": [
    "mean_confidence_interval(numCross_RBC)"
   ]
  },
  {
   "cell_type": "code",
   "execution_count": null,
   "metadata": {
    "collapsed": false
   },
   "outputs": [],
   "source": [
    "mean_confidence_interval(numCross_cord)"
   ]
  },
  {
   "cell_type": "code",
   "execution_count": null,
   "metadata": {
    "collapsed": false
   },
   "outputs": [],
   "source": [
    "from sklearn import metrics"
   ]
  },
  {
   "cell_type": "code",
   "execution_count": null,
   "metadata": {
    "collapsed": false
   },
   "outputs": [],
   "source": [
    "allnumCross = []"
   ]
  },
  {
   "cell_type": "code",
   "execution_count": null,
   "metadata": {
    "collapsed": false
   },
   "outputs": [],
   "source": [
    "scores=np.array(numCross_RBC+numCross_WBC+numCross_cord)"
   ]
  },
  {
   "cell_type": "code",
   "execution_count": null,
   "metadata": {
    "collapsed": false
   },
   "outputs": [],
   "source": [
    "y=np.array([1]*(len(numCross_RBC)+len(numCross_WBC))+[2]*len(numCross_cord))"
   ]
  },
  {
   "cell_type": "code",
   "execution_count": null,
   "metadata": {
    "collapsed": false
   },
   "outputs": [],
   "source": [
    "fpr, tpr, thresholds = metrics.roc_curve(y, scores, pos_label=2)"
   ]
  },
  {
   "cell_type": "code",
   "execution_count": null,
   "metadata": {
    "collapsed": false
   },
   "outputs": [],
   "source": [
    "fpr"
   ]
  },
  {
   "cell_type": "code",
   "execution_count": 203,
   "metadata": {
    "collapsed": false
   },
   "outputs": [
    {
     "data": {
      "text/plain": [
       "107"
      ]
     },
     "execution_count": 203,
     "metadata": {},
     "output_type": "execute_result"
    }
   ],
   "source": [
    "len(centerint_cord)"
   ]
  },
  {
   "cell_type": "code",
   "execution_count": null,
   "metadata": {
    "collapsed": false
   },
   "outputs": [],
   "source": [
    "y_true=np.array([1]*(len(numCross_RBC)+len(numCross_WBC))+[0]*len(numCross_cord))\n",
    "metrics.roc_auc_score(y_true, scores)"
   ]
  },
  {
   "cell_type": "code",
   "execution_count": null,
   "metadata": {
    "collapsed": true
   },
   "outputs": [],
   "source": [
    "os.chdir(\"/Users/mahdokhtmasaeli/GitHub/MM-s-repository/Images/Erythroblasts/\")\n",
    "numcanny_cord=[]\n",
    "numCross_cord=[]\n",
    "entropy_cord=[]\n",
    "for file in glob.glob(\"*.jpg\"):\n",
    "    myimage = Image.open(file)\n",
    "    imarray = np.array(myimage)\n",
    "    imarrayBW = imarray[:,:,1]\n",
    "    cannyImg = feature.canny(imarrayBW, sigma=Sigma)\n",
    "    numcanny_cord.append(np.sum(cannyImg))\n",
    "    cannyCrossSum=0\n",
    "    for k in [-2,-1,1,2]:\n",
    "        lineMat = np.zeros((120,120))\n",
    "        x=[i for i in range(min(60*(k-1)/k,(120+60*(k-1))/k),max(60*(k-1)/k,(120+60*(k-1))/k)-1)]\n",
    "        y=[j*k-60*(k-1)-1 for j in x]\n",
    "        lineMat[x,y]=1\n",
    "        cannyCrossSum = cannyCrossSum+sum(sum((np.array(cannyImg)*np.array(lineMat))))\n",
    "    numCross_cord.append(cannyCrossSum)\n",
    "    imhist, bins = np.histogram(imarrayBW)\n",
    "    ent =  np.sum(imhist*np.log2(imhist))\n",
    "    entropy_cord.append(ent)  "
   ]
  },
  {
   "cell_type": "code",
   "execution_count": null,
   "metadata": {
    "collapsed": false
   },
   "outputs": [],
   "source": [
    "numcanny_cord"
   ]
  },
  {
   "cell_type": "code",
   "execution_count": null,
   "metadata": {
    "collapsed": false
   },
   "outputs": [],
   "source": [
    "file in glob.glob(\"*.tif\")"
   ]
  },
  {
   "cell_type": "code",
   "execution_count": 15,
   "metadata": {
    "collapsed": true
   },
   "outputs": [],
   "source": [
    "WindowMat = np.zeros((10,10))\n"
   ]
  },
  {
   "cell_type": "code",
   "execution_count": 20,
   "metadata": {
    "collapsed": false
   },
   "outputs": [],
   "source": [
    "WindowMat[1:2,1:2]=2"
   ]
  },
  {
   "cell_type": "code",
   "execution_count": 21,
   "metadata": {
    "collapsed": false
   },
   "outputs": [
    {
     "data": {
      "text/plain": [
       "array([[ 0.,  0.,  0.,  0.,  0.,  0.,  0.,  0.,  0.,  0.],\n",
       "       [ 0.,  2.,  0.,  0.,  0.,  0.,  0.,  0.,  0.,  0.],\n",
       "       [ 0.,  0.,  0.,  0.,  0.,  0.,  0.,  0.,  0.,  0.],\n",
       "       [ 0.,  0.,  0.,  0.,  0.,  0.,  0.,  0.,  0.,  0.],\n",
       "       [ 0.,  0.,  0.,  0.,  0.,  0.,  0.,  0.,  0.,  0.],\n",
       "       [ 0.,  0.,  0.,  0.,  0.,  0.,  0.,  0.,  0.,  0.],\n",
       "       [ 0.,  0.,  0.,  0.,  0.,  0.,  0.,  0.,  0.,  0.],\n",
       "       [ 0.,  0.,  0.,  0.,  0.,  0.,  0.,  0.,  0.,  0.],\n",
       "       [ 0.,  0.,  0.,  0.,  0.,  0.,  0.,  0.,  0.,  0.],\n",
       "       [ 0.,  0.,  0.,  0.,  0.,  0.,  0.,  0.,  0.,  0.]])"
      ]
     },
     "execution_count": 21,
     "metadata": {},
     "output_type": "execute_result"
    }
   ],
   "source": [
    "WindowMat"
   ]
  },
  {
   "cell_type": "code",
   "execution_count": 22,
   "metadata": {
    "collapsed": true
   },
   "outputs": [],
   "source": [
    "Mat = np.ones((10,10))"
   ]
  },
  {
   "cell_type": "code",
   "execution_count": 25,
   "metadata": {
    "collapsed": false
   },
   "outputs": [
    {
     "data": {
      "text/plain": [
       "2.0"
      ]
     },
     "execution_count": 25,
     "metadata": {},
     "output_type": "execute_result"
    }
   ],
   "source": [
    "sum(sum(WindowMat*Mat))"
   ]
  },
  {
   "cell_type": "code",
   "execution_count": 168,
   "metadata": {
    "collapsed": false
   },
   "outputs": [
    {
     "data": {
      "text/plain": [
       "[nan,\n",
       " nan,\n",
       " nan,\n",
       " nan,\n",
       " nan,\n",
       " nan,\n",
       " nan,\n",
       " nan,\n",
       " nan,\n",
       " nan,\n",
       " nan,\n",
       " nan,\n",
       " nan,\n",
       " nan,\n",
       " nan,\n",
       " nan,\n",
       " nan,\n",
       " nan,\n",
       " nan,\n",
       " nan,\n",
       " nan,\n",
       " nan,\n",
       " nan,\n",
       " nan,\n",
       " nan,\n",
       " nan,\n",
       " nan,\n",
       " nan,\n",
       " nan,\n",
       " nan,\n",
       " nan,\n",
       " nan,\n",
       " nan,\n",
       " nan,\n",
       " nan,\n",
       " nan,\n",
       " nan,\n",
       " nan,\n",
       " nan,\n",
       " nan,\n",
       " nan,\n",
       " nan,\n",
       " nan,\n",
       " nan,\n",
       " nan,\n",
       " nan,\n",
       " nan,\n",
       " nan,\n",
       " nan,\n",
       " nan,\n",
       " nan]"
      ]
     },
     "execution_count": 168,
     "metadata": {},
     "output_type": "execute_result"
    }
   ],
   "source": [
    "entropy_RBC"
   ]
  },
  {
   "cell_type": "code",
   "execution_count": null,
   "metadata": {
    "collapsed": true
   },
   "outputs": [],
   "source": []
  }
 ],
 "metadata": {
  "kernelspec": {
   "display_name": "Python 2",
   "language": "python",
   "name": "python2"
  },
  "language_info": {
   "codemirror_mode": {
    "name": "ipython",
    "version": 2
   },
   "file_extension": ".py",
   "mimetype": "text/x-python",
   "name": "python",
   "nbconvert_exporter": "python",
   "pygments_lexer": "ipython2",
   "version": "2.7.11"
  }
 },
 "nbformat": 4,
 "nbformat_minor": 0
}
