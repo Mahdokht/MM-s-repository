{
 "cells": [
  {
   "cell_type": "code",
   "execution_count": 195,
   "metadata": {
    "collapsed": false
   },
   "outputs": [],
   "source": [
    "import os\n",
    "import struct\n",
    "\n",
    "import cv2\n",
    "import numpy as np\n",
    "from docopt import docopt\n",
    "\n",
    "import cine\n",
    "from linLUT import linLUT\n",
    "\n",
    "import glob, os\n",
    "from PIL import Image\n",
    "import numpy as np\n",
    "import matplotlib.pyplot as plt\n",
    "from scipy import ndimage as ndi\n",
    "from skimage import feature\n",
    "from skimage.filters import threshold_otsu\n",
    "\n",
    "from SelectFrameMat import select_frame\n",
    "\n",
    "from CineRead import frame_reader\n",
    "from CineRead import create_raw_array\n",
    "from CineRead import unpack_10bit\n",
    "from CineRead import read_header\n",
    "\n",
    "\n",
    "def generate_images(file):\n",
    "    SelectedFrame = select_frame(file, object_threshold = None)\n",
    "    #print SelectedFrame\n",
    "    header = read_header(file)\n",
    "\n",
    "    Out_image = frame_reader(file,header, start_frame=SelectedFrame, count = 1)\n",
    "    if SelectedFrame > 1:\n",
    "        Bg_image = frame_reader(file,header, start_frame=1, count = 1)\n",
    "    else:\n",
    "        Bg_image = frame_reader(file,header, start_frame=2, count = 1)\n",
    "    #plt.imshow(Out_image)\n",
    "    #plt.imsave(\"/Users/mahdokhtmasaeli/Documents/Deepcell/Data/class-rbc-images/\"+str(i), Out_image, cmap=plt.cm.gray)\n",
    "\n",
    "            \n",
    "    return Out_image, Bg_image\n",
    "        \n",
    "        \n",
    "def background_subtraction(Out_image, Bg_image):\n",
    "    threshBg = threshold_otsu(Bg_image)\n",
    "    Bgbinary = Bg_image > threshBg\n",
    "\n",
    "    threshOut = threshold_otsu(Out_image)\n",
    "    Outbinary = Out_image > threshOut\n",
    "\n",
    "    Bg = np.bitwise_or(Outbinary,Bgbinary)\n",
    "    BgSubtractedImg = np.bitwise_xor(Outbinary,Bg)   \n",
    "    return BgSubtractedImg\n",
    "\n",
    "def find_xy_limits(BgSubtractedImg):\n",
    "    imarrayDiff_x = np.sum(BgSubtractedImg,0)\n",
    "    indobject_x = np.where(is_outlier(imarrayDiff_x)==True)\n",
    "    #xlimits = [np.array(indobject_x)[0,0],np.array(indobject_x)[0,-1]]\n",
    "    xlim1 = (np.array(indobject_x)[0,0]+np.array(indobject_x)[0,-1])/2\n",
    "    xlimits = [xlim1-30, xlim1+30]\n",
    "    \n",
    "    imarrayDiff_y = np.sum(BgSubtractedImg,1)\n",
    "    indobject_y = np.where(is_outlier(imarrayDiff_y)==True)\n",
    "\n",
    "    derivchange = np.diff(indobject_y)\n",
    "    sortedind = sorted(range(len(derivchange[0,:])), key=derivchange[0,:].__getitem__) \n",
    "    ind1 = sortedind[-1]\n",
    "    ind2 = sortedind[-2]\n",
    "    ylim1 = np.array(indobject_y)[0,min(ind1,ind2)+1]\n",
    "    ylim2 = np.array(indobject_y)[0,max(ind1,ind2)]\n",
    "    #ylimits = [ylim1,ylim2]\n",
    "    ylim1 = (np.array(indobject_y)[0,min(ind1,ind2)+1]+np.array(indobject_y)[0,max(ind1,ind2)])/2\n",
    "    ylimits = [ylim1-30, ylim1+30]\n",
    "    \n",
    "    return xlimits, ylimits\n",
    "\n",
    "\n",
    "def crop_img(Img, xlimits, ylimits, borders=5):\n",
    "    \n",
    "    cropped_img = Img[ylimits[0]-borders:ylimits[1]+borders,xlimits[0]-borders:xlimits[1]+borders]\n",
    "    \n",
    "    return cropped_img"
   ]
  },
  {
   "cell_type": "code",
   "execution_count": 168,
   "metadata": {
    "collapsed": false
   },
   "outputs": [],
   "source": [
    "dir = \"/Users/mahdokhtmasaeli/Documents/DeepcellVideo/\"\n",
    "Out_image, Bg_image = generate_images(file)\n",
    "imgdiff = background_subtraction(Out_image,Bg_image)\n",
    "xlimits, ylimits = find_xy_limits(imgdiff)\n",
    "cropped_img = crop_img(Out_image,xlimits,ylimits)"
   ]
  },
  {
   "cell_type": "code",
   "execution_count": null,
   "metadata": {
    "collapsed": false
   },
   "outputs": [
    {
     "name": "stdout",
     "output_type": "stream",
     "text": [
      "Unexpected error\n",
      "Unexpected error\n",
      "Unexpected error\n",
      "Unexpected error\n",
      "Unexpected error\n",
      "Unexpected error\n",
      "Unexpected error\n",
      "Unexpected error\n",
      "Unexpected error\n",
      "Unexpected error\n",
      "Unexpected error\n",
      "Unexpected error\n",
      "Unexpected error\n",
      "Unexpected error\n",
      "Unexpected error\n",
      "Unexpected error\n",
      "Unexpected error"
     ]
    }
   ],
   "source": [
    "dir = \"/Volumes/My Book/Deepcell/class-10umbead/\"\n",
    "os.chdir(dir)\n",
    "i = 0\n",
    "for file in glob.glob(\"*.cine\"):\n",
    "    i += 1\n",
    "    try:\n",
    "        Out_image, Bg_image = generate_images(file)\n",
    "        imgdiff = background_subtraction(Out_image,Bg_image)\n",
    "        xlimits, ylimits = find_xy_limits(imgdiff)\n",
    "        cropped_img = crop_img(Out_image,xlimits,ylimits)\n",
    "        plt.imshow(cropped_img)\n",
    "        plt.imsave(\"/Users/mahdokhtmasaeli/Documents/Deepcell/Data/class-10umbead-images-cropped/\"+str(i), cropped_img, cmap=plt.cm.gray)\n",
    "\n",
    "    except:\n",
    "        print(\"Unexpected error\")  \n",
    "                        \n",
    "            \n",
    "\n",
    "        "
   ]
  },
  {
   "cell_type": "code",
   "execution_count": 188,
   "metadata": {
    "collapsed": false
   },
   "outputs": [],
   "source": []
  },
  {
   "cell_type": "code",
   "execution_count": 189,
   "metadata": {
    "collapsed": false
   },
   "outputs": [
    {
     "data": {
      "text/plain": [
       "[446, 546]"
      ]
     },
     "execution_count": 189,
     "metadata": {},
     "output_type": "execute_result"
    }
   ],
   "source": []
  },
  {
   "cell_type": "code",
   "execution_count": 190,
   "metadata": {
    "collapsed": false
   },
   "outputs": [
    {
     "data": {
      "text/plain": [
       "[-16, 84]"
      ]
     },
     "execution_count": 190,
     "metadata": {},
     "output_type": "execute_result"
    }
   ],
   "source": []
  },
  {
   "cell_type": "code",
   "execution_count": 153,
   "metadata": {
    "collapsed": false
   },
   "outputs": [
    {
     "data": {
      "text/plain": [
       "<matplotlib.image.AxesImage at 0x1100c95d0>"
      ]
     },
     "execution_count": 153,
     "metadata": {},
     "output_type": "execute_result"
    }
   ],
   "source": []
  },
  {
   "cell_type": "code",
   "execution_count": 154,
   "metadata": {
    "collapsed": false
   },
   "outputs": [],
   "source": []
  },
  {
   "cell_type": "code",
   "execution_count": 111,
   "metadata": {
    "collapsed": false
   },
   "outputs": [
    {
     "data": {
      "text/plain": [
       "(array([ 22,  23,  24,  25,  26,  27,  28,  29,  30,  31,  34,  40,  43,\n",
       "         68,  69,  70,  71,  72,  73,  74,  75,  76,  77,  78,  79,  80,\n",
       "         81,  82,  83,  84,  85,  86,  87,  88,  89,  90,  91,  92,  93,\n",
       "         94,  95,  96,  97,  98,  99, 156, 157, 158, 159, 160]),)"
      ]
     },
     "execution_count": 111,
     "metadata": {},
     "output_type": "execute_result"
    }
   ],
   "source": []
  },
  {
   "cell_type": "code",
   "execution_count": 184,
   "metadata": {
    "collapsed": false
   },
   "outputs": [
    {
     "data": {
      "text/plain": [
       "2"
      ]
     },
     "execution_count": 184,
     "metadata": {},
     "output_type": "execute_result"
    }
   ],
   "source": []
  },
  {
   "cell_type": "code",
   "execution_count": 118,
   "metadata": {
    "collapsed": false
   },
   "outputs": [
    {
     "data": {
      "text/plain": [
       "68"
      ]
     },
     "execution_count": 118,
     "metadata": {},
     "output_type": "execute_result"
    }
   ],
   "source": []
  },
  {
   "cell_type": "code",
   "execution_count": null,
   "metadata": {
    "collapsed": true
   },
   "outputs": [],
   "source": []
  }
 ],
 "metadata": {
  "kernelspec": {
   "display_name": "Python 2",
   "language": "python",
   "name": "python2"
  },
  "language_info": {
   "codemirror_mode": {
    "name": "ipython",
    "version": 2
   },
   "file_extension": ".py",
   "mimetype": "text/x-python",
   "name": "python",
   "nbconvert_exporter": "python",
   "pygments_lexer": "ipython2",
   "version": "2.7.11"
  }
 },
 "nbformat": 4,
 "nbformat_minor": 0
}
