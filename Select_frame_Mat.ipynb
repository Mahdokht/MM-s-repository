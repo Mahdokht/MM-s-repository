{
 "cells": [
  {
   "cell_type": "code",
   "execution_count": 31,
   "metadata": {
    "collapsed": false
   },
   "outputs": [],
   "source": [
    "import os\n",
    "import struct\n",
    "\n",
    "import cv2\n",
    "import numpy as np\n",
    "from docopt import docopt\n",
    "\n",
    "import cine\n",
    "from linLUT import linLUT\n",
    "\n",
    "import glob, os\n",
    "from PIL import Image\n",
    "import numpy as np\n",
    "import matplotlib.pyplot as plt\n",
    "from scipy import ndimage as ndi\n",
    "from skimage import feature\n",
    "from skimage.filters import threshold_otsu\n",
    "from CineRead import frame_reader\n",
    "from CineRead import create_raw_array\n",
    "from CineRead import unpack_10bit\n",
    "from CineRead import read_header\n",
    "\n",
    "\n",
    "def select_frame(cine_file, object_threshold):    \n",
    "\n",
    "    header = read_header(cine_file)\n",
    "    \n",
    "    if not object_threshold:    \n",
    "        object_threshold = 10\n",
    "        \n",
    "    notedge = inds_not_on_edge_mat(cine_file, header)\n",
    "    notempty = inds_not_empty_mat(cine_file, header,object_threshold)\n",
    "    #return notedge\n",
    "    not_edge_empty = list(set(np.array(notedge).ravel()).intersection(np.array(notempty).ravel()))\n",
    "    return not_edge_empty[len(not_edge_empty)/2-1]"
   ]
  },
  {
   "cell_type": "code",
   "execution_count": 32,
   "metadata": {
    "collapsed": false
   },
   "outputs": [],
   "source": [
    "def is_outlier(points, thresh=3.5):\n",
    "    \"\"\"\n",
    "    Returns a boolean array with True if points are outliers and False \n",
    "    otherwise.\n",
    "\n",
    "    Parameters:\n",
    "    -----------\n",
    "        points : An numobservations by numdimensions array of observations\n",
    "        thresh : The modified z-score to use as a threshold. Observations with\n",
    "            a modified z-score (based on the median absolute deviation) greater\n",
    "            than this value will be classified as outliers.\n",
    "\n",
    "    Returns:\n",
    "    --------\n",
    "        mask : A numobservations-length boolean array.\n",
    "\n",
    "    References:\n",
    "    ----------\n",
    "        Boris Iglewicz and David Hoaglin (1993), \"Volume 16: How to Detect and\n",
    "        Handle Outliers\", The ASQC Basic References in Quality Control:\n",
    "        Statistical Techniques, Edward F. Mykytka, Ph.D., Editor. \n",
    "    \"\"\"\n",
    "    if len(points.shape) == 1:\n",
    "        points = points[:,None]\n",
    "    median = np.median(points, axis=0)\n",
    "    diff = np.sum((points - median)**2, axis=-1)\n",
    "    diff = np.sqrt(diff)\n",
    "    med_abs_deviation = np.median(diff)\n",
    "\n",
    "    modified_z_score = 0.6745 * diff / med_abs_deviation\n",
    "\n",
    "    return modified_z_score > thresh"
   ]
  },
  {
   "cell_type": "code",
   "execution_count": 33,
   "metadata": {
    "collapsed": false
   },
   "outputs": [],
   "source": [
    "def inds_not_on_edge_mat(cine_file, header):\n",
    "    image_edge = []\n",
    "    count = header['cinefileheader'].ImageCount\n",
    "    for i in range(count):\n",
    "        mat_image = frame_reader(myfile,header, start_frame=i, count = 1)\n",
    "        imarrayBWnum = np.sum(mat_image, axis=0)\n",
    "        image_edge.append([imarrayBWnum[0],imarrayBWnum[-1]])\n",
    "    return np.where(is_outlier(np.array(image_edge))==False)"
   ]
  },
  {
   "cell_type": "code",
   "execution_count": 46,
   "metadata": {
    "collapsed": false
   },
   "outputs": [],
   "source": [
    "def inds_not_empty_mat(cine_file, header, obj_thresh):\n",
    "    width, height = header['bitmapinfoheader'].biWidth, header['bitmapinfoheader'].biHeight\n",
    "    count = header['cinefileheader'].ImageCount\n",
    "    temp = np.zeros((height,width), dtype=bool)     \n",
    "    for i in range(count):\n",
    "        mat_image = frame_reader(myfile,header, start_frame=i, count = 1)\n",
    "        thresh = threshold_otsu(mat_image)\n",
    "        imbinary = mat_image > thresh\n",
    "        temp = np.bitwise_or(imbinary,temp)\n",
    "    imarrayBG = np.sum(temp, axis=0)\n",
    "    BG_minmax = [min(imarrayBG),max(imarrayBG)]\n",
    "    image_minmax=[]\n",
    "    for i in range(count):\n",
    "        mat_image = frame_reader(myfile,header, start_frame=i, count = 1)\n",
    "        thresh = threshold_otsu(mat_image)\n",
    "        imbinary = mat_image > thresh\n",
    "        imbinaryBWnum = np.sum(imbinary, axis=0)\n",
    "        image_minmax.append(np.subtract([min(imbinaryBWnum),max(imbinaryBWnum)],BG_minmax))\n",
    "    return np.where(np.abs(np.sum(image_minmax,axis=1))>obj_thresh)\n",
    "      "
   ]
  },
  {
   "cell_type": "code",
   "execution_count": 47,
   "metadata": {
    "collapsed": false
   },
   "outputs": [],
   "source": [
    "def intersect(a, b):\n",
    "    \"\"\" return the intersection of two lists \"\"\"\n",
    "    return list(set(a) & set(b))\n"
   ]
  },
  {
   "cell_type": "code",
   "execution_count": 49,
   "metadata": {
    "collapsed": false
   },
   "outputs": [
    {
     "name": "stdout",
     "output_type": "stream",
     "text": [
      "Reading frame 0\n",
      "Reading frame 1\n",
      "Reading frame 2\n",
      "Reading frame 3\n",
      "Reading frame 4\n",
      "Reading frame 5\n",
      "Reading frame 6\n",
      "Reading frame 7\n",
      "Reading frame 8\n",
      "Reading frame 9\n",
      "Reading frame 10\n",
      "Reading frame 0\n",
      "Reading frame 1\n",
      "Reading frame 2\n",
      "Reading frame 3\n",
      "Reading frame 4\n",
      "Reading frame 5\n",
      "Reading frame 6\n",
      "Reading frame 7\n",
      "Reading frame 8\n",
      "Reading frame 9\n",
      "Reading frame 10\n",
      "Reading frame 0\n",
      "Reading frame 1\n",
      "Reading frame 2\n",
      "Reading frame 3\n",
      "Reading frame 4\n",
      "Reading frame 5\n",
      "Reading frame 6\n",
      "Reading frame 7\n",
      "Reading frame 8\n",
      "Reading frame 9\n",
      "Reading frame 10\n"
     ]
    }
   ],
   "source": [
    "SelectedFrame = select_frame(myfile, object_threshold = None)"
   ]
  },
  {
   "cell_type": "code",
   "execution_count": 50,
   "metadata": {
    "collapsed": false
   },
   "outputs": [
    {
     "name": "stdout",
     "output_type": "stream",
     "text": [
      "Reading frame 4\n"
     ]
    }
   ],
   "source": [
    "Out_image = frame_reader(myfile,header, start_frame=SelectedFrame, count = 1)"
   ]
  },
  {
   "cell_type": "code",
   "execution_count": 51,
   "metadata": {
    "collapsed": false
   },
   "outputs": [
    {
     "data": {
      "text/plain": [
       "<matplotlib.image.AxesImage at 0x10bf44a50>"
      ]
     },
     "execution_count": 51,
     "metadata": {},
     "output_type": "execute_result"
    }
   ],
   "source": [
    "plt.imshow(Out_image)"
   ]
  },
  {
   "cell_type": "code",
   "execution_count": 52,
   "metadata": {
    "collapsed": false
   },
   "outputs": [],
   "source": [
    "plt.show()"
   ]
  },
  {
   "cell_type": "code",
   "execution_count": null,
   "metadata": {
    "collapsed": false
   },
   "outputs": [],
   "source": []
  },
  {
   "cell_type": "code",
   "execution_count": null,
   "metadata": {
    "collapsed": false
   },
   "outputs": [],
   "source": []
  },
  {
   "cell_type": "code",
   "execution_count": null,
   "metadata": {
    "collapsed": false
   },
   "outputs": [],
   "source": []
  },
  {
   "cell_type": "code",
   "execution_count": null,
   "metadata": {
    "collapsed": false
   },
   "outputs": [],
   "source": []
  },
  {
   "cell_type": "code",
   "execution_count": null,
   "metadata": {
    "collapsed": false
   },
   "outputs": [],
   "source": []
  },
  {
   "cell_type": "code",
   "execution_count": null,
   "metadata": {
    "collapsed": false
   },
   "outputs": [],
   "source": []
  },
  {
   "cell_type": "code",
   "execution_count": null,
   "metadata": {
    "collapsed": true
   },
   "outputs": [],
   "source": []
  }
 ],
 "metadata": {
  "kernelspec": {
   "display_name": "Python 2",
   "language": "python",
   "name": "python2"
  },
  "language_info": {
   "codemirror_mode": {
    "name": "ipython",
    "version": 2
   },
   "file_extension": ".py",
   "mimetype": "text/x-python",
   "name": "python",
   "nbconvert_exporter": "python",
   "pygments_lexer": "ipython2",
   "version": "2.7.11"
  }
 },
 "nbformat": 4,
 "nbformat_minor": 0
}
