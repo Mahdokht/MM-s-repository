{
 "cells": [
  {
   "cell_type": "code",
   "execution_count": 1,
   "metadata": {
    "collapsed": false
   },
   "outputs": [
    {
     "ename": "IOError",
     "evalue": "[Errno 2] No such file or directory: '/Users/mahdokhtmasaeli/Documents/Erythroblast_tiff_canny/imageTF-1-final0000.tif.png'",
     "output_type": "error",
     "traceback": [
      "\u001b[0;31m---------------------------------------------------------------------------\u001b[0m",
      "\u001b[0;31mIOError\u001b[0m                                   Traceback (most recent call last)",
      "\u001b[0;32m<ipython-input-1-8b2e87c60884>\u001b[0m in \u001b[0;36m<module>\u001b[0;34m()\u001b[0m\n\u001b[1;32m    103\u001b[0m     \u001b[0mimarrayBW\u001b[0m \u001b[0;34m=\u001b[0m \u001b[0mimarray\u001b[0m\u001b[0;34m\u001b[0m\u001b[0m\n\u001b[1;32m    104\u001b[0m     \u001b[0mcannyImg\u001b[0m \u001b[0;34m=\u001b[0m \u001b[0mfeature\u001b[0m\u001b[0;34m.\u001b[0m\u001b[0mcanny\u001b[0m\u001b[0;34m(\u001b[0m\u001b[0mimarrayBW\u001b[0m\u001b[0;34m,\u001b[0m \u001b[0msigma\u001b[0m\u001b[0;34m=\u001b[0m\u001b[0mSigma\u001b[0m\u001b[0;34m)\u001b[0m\u001b[0;34m\u001b[0m\u001b[0m\n\u001b[0;32m--> 105\u001b[0;31m     \u001b[0mplt\u001b[0m\u001b[0;34m.\u001b[0m\u001b[0mimsave\u001b[0m\u001b[0;34m(\u001b[0m\u001b[0;34m'/Users/mahdokhtmasaeli/Documents/Erythroblast_tiff_canny/image'\u001b[0m\u001b[0;34m+\u001b[0m\u001b[0mstr\u001b[0m\u001b[0;34m(\u001b[0m\u001b[0mfile\u001b[0m\u001b[0;34m)\u001b[0m\u001b[0;34m+\u001b[0m\u001b[0;34m'.png'\u001b[0m\u001b[0;34m,\u001b[0m\u001b[0mcannyImg\u001b[0m\u001b[0;34m,\u001b[0m \u001b[0mcmap\u001b[0m\u001b[0;34m=\u001b[0m\u001b[0mplt\u001b[0m\u001b[0;34m.\u001b[0m\u001b[0mcm\u001b[0m\u001b[0;34m.\u001b[0m\u001b[0mgray\u001b[0m\u001b[0;34m)\u001b[0m\u001b[0;34m\u001b[0m\u001b[0m\n\u001b[0m\u001b[1;32m    106\u001b[0m \u001b[0;34m\u001b[0m\u001b[0m\n\u001b[1;32m    107\u001b[0m \u001b[0;34m\u001b[0m\u001b[0m\n",
      "\u001b[0;32m/Users/mahdokhtmasaeli/anaconda/lib/python2.7/site-packages/matplotlib/pyplot.pyc\u001b[0m in \u001b[0;36mimsave\u001b[0;34m(*args, **kwargs)\u001b[0m\n\u001b[1;32m   2293\u001b[0m \u001b[0;34m@\u001b[0m\u001b[0mdocstring\u001b[0m\u001b[0;34m.\u001b[0m\u001b[0mcopy_dedent\u001b[0m\u001b[0;34m(\u001b[0m\u001b[0m_imsave\u001b[0m\u001b[0;34m)\u001b[0m\u001b[0;34m\u001b[0m\u001b[0m\n\u001b[1;32m   2294\u001b[0m \u001b[0;32mdef\u001b[0m \u001b[0mimsave\u001b[0m\u001b[0;34m(\u001b[0m\u001b[0;34m*\u001b[0m\u001b[0margs\u001b[0m\u001b[0;34m,\u001b[0m \u001b[0;34m**\u001b[0m\u001b[0mkwargs\u001b[0m\u001b[0;34m)\u001b[0m\u001b[0;34m:\u001b[0m\u001b[0;34m\u001b[0m\u001b[0m\n\u001b[0;32m-> 2295\u001b[0;31m     \u001b[0;32mreturn\u001b[0m \u001b[0m_imsave\u001b[0m\u001b[0;34m(\u001b[0m\u001b[0;34m*\u001b[0m\u001b[0margs\u001b[0m\u001b[0;34m,\u001b[0m \u001b[0;34m**\u001b[0m\u001b[0mkwargs\u001b[0m\u001b[0;34m)\u001b[0m\u001b[0;34m\u001b[0m\u001b[0m\n\u001b[0m\u001b[1;32m   2296\u001b[0m \u001b[0;34m\u001b[0m\u001b[0m\n\u001b[1;32m   2297\u001b[0m \u001b[0;34m\u001b[0m\u001b[0m\n",
      "\u001b[0;32m/Users/mahdokhtmasaeli/anaconda/lib/python2.7/site-packages/matplotlib/image.pyc\u001b[0m in \u001b[0;36mimsave\u001b[0;34m(fname, arr, vmin, vmax, cmap, format, origin, dpi)\u001b[0m\n\u001b[1;32m   1368\u001b[0m     im = fig.figimage(arr, cmap=cmap, vmin=vmin, vmax=vmax, origin=origin,\n\u001b[1;32m   1369\u001b[0m                       resize=True)\n\u001b[0;32m-> 1370\u001b[0;31m     \u001b[0mfig\u001b[0m\u001b[0;34m.\u001b[0m\u001b[0msavefig\u001b[0m\u001b[0;34m(\u001b[0m\u001b[0mfname\u001b[0m\u001b[0;34m,\u001b[0m \u001b[0mdpi\u001b[0m\u001b[0;34m=\u001b[0m\u001b[0mdpi\u001b[0m\u001b[0;34m,\u001b[0m \u001b[0mformat\u001b[0m\u001b[0;34m=\u001b[0m\u001b[0mformat\u001b[0m\u001b[0;34m,\u001b[0m \u001b[0mtransparent\u001b[0m\u001b[0;34m=\u001b[0m\u001b[0mTrue\u001b[0m\u001b[0;34m)\u001b[0m\u001b[0;34m\u001b[0m\u001b[0m\n\u001b[0m\u001b[1;32m   1371\u001b[0m \u001b[0;34m\u001b[0m\u001b[0m\n\u001b[1;32m   1372\u001b[0m \u001b[0;34m\u001b[0m\u001b[0m\n",
      "\u001b[0;32m/Users/mahdokhtmasaeli/anaconda/lib/python2.7/site-packages/matplotlib/figure.pyc\u001b[0m in \u001b[0;36msavefig\u001b[0;34m(self, *args, **kwargs)\u001b[0m\n\u001b[1;32m   1537\u001b[0m             \u001b[0mself\u001b[0m\u001b[0;34m.\u001b[0m\u001b[0mset_frameon\u001b[0m\u001b[0;34m(\u001b[0m\u001b[0mframeon\u001b[0m\u001b[0;34m)\u001b[0m\u001b[0;34m\u001b[0m\u001b[0m\n\u001b[1;32m   1538\u001b[0m \u001b[0;34m\u001b[0m\u001b[0m\n\u001b[0;32m-> 1539\u001b[0;31m         \u001b[0mself\u001b[0m\u001b[0;34m.\u001b[0m\u001b[0mcanvas\u001b[0m\u001b[0;34m.\u001b[0m\u001b[0mprint_figure\u001b[0m\u001b[0;34m(\u001b[0m\u001b[0;34m*\u001b[0m\u001b[0margs\u001b[0m\u001b[0;34m,\u001b[0m \u001b[0;34m**\u001b[0m\u001b[0mkwargs\u001b[0m\u001b[0;34m)\u001b[0m\u001b[0;34m\u001b[0m\u001b[0m\n\u001b[0m\u001b[1;32m   1540\u001b[0m \u001b[0;34m\u001b[0m\u001b[0m\n\u001b[1;32m   1541\u001b[0m         \u001b[0;32mif\u001b[0m \u001b[0mframeon\u001b[0m\u001b[0;34m:\u001b[0m\u001b[0;34m\u001b[0m\u001b[0m\n",
      "\u001b[0;32m/Users/mahdokhtmasaeli/anaconda/lib/python2.7/site-packages/matplotlib/backend_bases.pyc\u001b[0m in \u001b[0;36mprint_figure\u001b[0;34m(self, filename, dpi, facecolor, edgecolor, orientation, format, **kwargs)\u001b[0m\n\u001b[1;32m   2228\u001b[0m                 \u001b[0morientation\u001b[0m\u001b[0;34m=\u001b[0m\u001b[0morientation\u001b[0m\u001b[0;34m,\u001b[0m\u001b[0;34m\u001b[0m\u001b[0m\n\u001b[1;32m   2229\u001b[0m                 \u001b[0mbbox_inches_restore\u001b[0m\u001b[0;34m=\u001b[0m\u001b[0m_bbox_inches_restore\u001b[0m\u001b[0;34m,\u001b[0m\u001b[0;34m\u001b[0m\u001b[0m\n\u001b[0;32m-> 2230\u001b[0;31m                 **kwargs)\n\u001b[0m\u001b[1;32m   2231\u001b[0m         \u001b[0;32mfinally\u001b[0m\u001b[0;34m:\u001b[0m\u001b[0;34m\u001b[0m\u001b[0m\n\u001b[1;32m   2232\u001b[0m             \u001b[0;32mif\u001b[0m \u001b[0mbbox_inches\u001b[0m \u001b[0;32mand\u001b[0m \u001b[0mrestore_bbox\u001b[0m\u001b[0;34m:\u001b[0m\u001b[0;34m\u001b[0m\u001b[0m\n",
      "\u001b[0;32m/Users/mahdokhtmasaeli/anaconda/lib/python2.7/site-packages/matplotlib/backends/backend_agg.pyc\u001b[0m in \u001b[0;36mprint_png\u001b[0;34m(self, filename_or_obj, *args, **kwargs)\u001b[0m\n\u001b[1;32m    530\u001b[0m         \u001b[0mrenderer\u001b[0m\u001b[0;34m.\u001b[0m\u001b[0mdpi\u001b[0m \u001b[0;34m=\u001b[0m \u001b[0mself\u001b[0m\u001b[0;34m.\u001b[0m\u001b[0mfigure\u001b[0m\u001b[0;34m.\u001b[0m\u001b[0mdpi\u001b[0m\u001b[0;34m\u001b[0m\u001b[0m\n\u001b[1;32m    531\u001b[0m         \u001b[0;32mif\u001b[0m \u001b[0mis_string_like\u001b[0m\u001b[0;34m(\u001b[0m\u001b[0mfilename_or_obj\u001b[0m\u001b[0;34m)\u001b[0m\u001b[0;34m:\u001b[0m\u001b[0;34m\u001b[0m\u001b[0m\n\u001b[0;32m--> 532\u001b[0;31m             \u001b[0mfilename_or_obj\u001b[0m \u001b[0;34m=\u001b[0m \u001b[0mopen\u001b[0m\u001b[0;34m(\u001b[0m\u001b[0mfilename_or_obj\u001b[0m\u001b[0;34m,\u001b[0m \u001b[0;34m'wb'\u001b[0m\u001b[0;34m)\u001b[0m\u001b[0;34m\u001b[0m\u001b[0m\n\u001b[0m\u001b[1;32m    533\u001b[0m             \u001b[0mclose\u001b[0m \u001b[0;34m=\u001b[0m \u001b[0mTrue\u001b[0m\u001b[0;34m\u001b[0m\u001b[0m\n\u001b[1;32m    534\u001b[0m         \u001b[0;32melse\u001b[0m\u001b[0;34m:\u001b[0m\u001b[0;34m\u001b[0m\u001b[0m\n",
      "\u001b[0;31mIOError\u001b[0m: [Errno 2] No such file or directory: '/Users/mahdokhtmasaeli/Documents/Erythroblast_tiff_canny/imageTF-1-final0000.tif.png'"
     ]
    }
   ],
   "source": [
    "import glob, os\n",
    "from PIL import Image\n",
    "import numpy as np\n",
    "import matplotlib.pyplot as plt\n",
    "import scipy\n",
    "from scipy import ndimage as ndi\n",
    "from skimage import feature\n",
    "from sklearn import datasets\n",
    "\n",
    "\n",
    "Sigma = 3\n",
    "WindowSize = 2\n",
    "WindowMat = np.zeros((120,120))\n",
    "WindowMat[60-1-WindowSize/2:60+1+WindowSize/2,60-1-WindowSize/2:60+1+WindowSize/2]=1\n",
    "os.chdir(\"/Users/mahdokhtmasaeli/GitHub/MM-s-repository/Images/geese_RBC/\")\n",
    "numcanny_Geese=[]\n",
    "numCross_Geese=[]\n",
    "entropy_Geese=[]\n",
    "centerint_Geese=[]\n",
    "cannyImg_RBC=[]\n",
    "cannyImg_WBC=[]\n",
    "cannyImg_Erythroblast=[]\n",
    "for file in glob.glob(\"*.tif\"):\n",
    "    myimage = Image.open(file)\n",
    "    imarray = np.array(myimage)\n",
    "    imarrayBW = imarray[:,:,1]\n",
    "    cannyImg = feature.canny(imarrayBW, sigma=Sigma)\n",
    "    numcanny_Geese.append(np.sum(cannyImg))\n",
    "    cannyCrossSum=0\n",
    "    for k in [-1,1]:\n",
    "        lineMat = np.zeros((120,120))\n",
    "        x=[i for i in range(min(60*(k-1)/k,(120+60*(k-1))/k),max(60*(k-1)/k,(120+60*(k-1))/k)-1)]\n",
    "        y=[j*k-60*(k-1)-1 for j in x]\n",
    "        lineMat[x,y]=1\n",
    "        cannyCrossSum = cannyCrossSum+sum(sum((np.array(cannyImg)*np.array(lineMat))))\n",
    "    numCross_Geese.append(cannyCrossSum)\n",
    "    imhist, bins = np.histogram(imarrayBW)\n",
    "    ent =  np.sum(imhist*np.log2(imhist))\n",
    "    entropy_Geese.append(ent)\n",
    "    centerint_Geese.append(sum(sum(imarrayBW*WindowMat)))\n",
    "os.chdir(\"/Users/mahdokhtmasaeli/GitHub/MM-s-repository/Images/adult_RBC/\")\n",
    "numcanny_RBC=[]\n",
    "numCross_RBC=[]\n",
    "entropy_RBC=[]\n",
    "centerint_RBC=[]\n",
    "for file in glob.glob(\"*.tif\"):\n",
    "    myimage = Image.open(file)\n",
    "    imarray = np.array(myimage)\n",
    "    imarrayBW = imarray\n",
    "    cannyImg = feature.canny(imarrayBW, sigma=Sigma)\n",
    "    plt.imsave('/Users/mahdokhtmasaeli/Documents/adult_RBC_canny/image'+str(file)+'.png',cannyImg, cmap=plt.cm.gray)\n",
    "\n",
    "    cannyImg_RBC.append(cannyImg.flatten())\n",
    "    numcanny_RBC.append(np.sum(cannyImg))\n",
    "    cannyCrossSum=0\n",
    "    for k in [-2,-1,1,2]:\n",
    "        lineMat = np.zeros((120,120))\n",
    "        x=[i for i in range(min(60*(k-1)/k,(120+60*(k-1))/k),max(60*(k-1)/k,(120+60*(k-1))/k)-1)]\n",
    "        y=[j*k-60*(k-1)-1 for j in x]\n",
    "        lineMat[x,y]=1\n",
    "        cannyCrossSum = cannyCrossSum+sum(sum((np.array(cannyImg)*np.array(lineMat))))\n",
    "    numCross_RBC.append(cannyCrossSum)\n",
    "    imhist, bins = np.histogram(imarrayBW)\n",
    "    ent =  np.sum(imhist*np.log2(imhist))\n",
    "    entropy_RBC.append(ent)\n",
    "    centerint_RBC.append(sum(sum(imarrayBW*WindowMat)))\n",
    "\n",
    "os.chdir(\"/Users/mahdokhtmasaeli/GitHub/MM-s-repository/Images/WBC-8bit/\")\n",
    "numcanny_WBC=[]\n",
    "numCross_WBC=[]\n",
    "entropy_WBC=[]\n",
    "centerint_WBC=[]\n",
    "for file in glob.glob(\"*.tif\"):\n",
    "    myimage = Image.open(file)\n",
    "    imarray = np.array(myimage)\n",
    "    imarrayBW = imarray\n",
    "    cannyImg = feature.canny(imarrayBW, sigma=Sigma)\n",
    "    plt.imsave('/Users/mahdokhtmasaeli/Documents/WBC_8bit_canny/image'+str(file)+'.png',cannyImg, cmap=plt.cm.gray)\n",
    "\n",
    "    cannyImg_WBC.append(cannyImg.flatten())\n",
    "    numcanny_WBC.append(np.sum(cannyImg))\n",
    "    cannyCrossSum=0\n",
    "    for k in [-2,-1,1,2]:\n",
    "        lineMat = np.zeros((120,120))\n",
    "        x=[i for i in range(min(60*(k-1)/k,(120+60*(k-1))/k),max(60*(k-1)/k,(120+60*(k-1))/k)-1)]\n",
    "        y=[j*k-60*(k-1)-1 for j in x]\n",
    "        lineMat[x,y]=1\n",
    "        cannyCrossSum = cannyCrossSum+sum(sum((np.array(cannyImg)*np.array(lineMat))))\n",
    "    numCross_WBC.append(cannyCrossSum)\n",
    "    imhist, bins = np.histogram(imarrayBW)\n",
    "    ent =  np.sum(imhist*np.log2(imhist))\n",
    "    entropy_WBC.append(ent)\n",
    "    centerint_WBC.append(sum(sum(imarrayBW*WindowMat)))\n",
    "\n",
    "os.chdir(\"/Users/mahdokhtmasaeli/GitHub/MM-s-repository/Images/Erythroblast-tiff/\")\n",
    "numcanny_cord=[]\n",
    "numCross_cord=[]\n",
    "entropy_cord=[]\n",
    "centerint_cord=[]\n",
    "for file in glob.glob(\"*.tif\"):\n",
    "    myimage = Image.open(file)\n",
    "    imarray = np.array(myimage)\n",
    "    imarrayBW = imarray\n",
    "    cannyImg = feature.canny(imarrayBW, sigma=Sigma)\n",
    "    plt.imsave('/Users/mahdokhtmasaeli/Documents/Erythroblast_tiff_canny/image'+str(file)+'.png',cannyImg, cmap=plt.cm.gray)\n",
    "\n",
    "    \n",
    "    numcanny_cord.append(np.sum(cannyImg))\n",
    "    cannyImg_Erythroblast.append(cannyImg.flatten())\n",
    "\n",
    "    cannyCrossSum=0\n",
    "    for k in [-2,-1,1,2]:\n",
    "        lineMat = np.zeros((120,120))\n",
    "        x=[i for i in range(min(60*(k-1)/k,(120+60*(k-1))/k),max(60*(k-1)/k,(120+60*(k-1))/k)-1)]\n",
    "        y=[j*k-60*(k-1)-1 for j in x]\n",
    "        lineMat[x,y]=1\n",
    "        cannyCrossSum = cannyCrossSum+sum(sum((np.array(cannyImg)*np.array(lineMat))))\n",
    "    numCross_cord.append(cannyCrossSum)\n",
    "    imhist, bins = np.histogram(imarrayBW)\n",
    "    ent =  np.sum(imhist*np.log2(imhist))\n",
    "    entropy_cord.append(ent) \n",
    "    centerint_cord.append(sum(sum(imarrayBW*WindowMat)))\n"
   ]
  },
  {
   "cell_type": "code",
   "execution_count": null,
   "metadata": {
    "collapsed": false
   },
   "outputs": [],
   "source": [
    "intRBC=np.array(cannyImg_RBC)[0:40,:].astype(int)\n",
    "intWBC=np.array(cannyImg_WBC)[0:40,:].astype(int)\n",
    "\n",
    "trainX = np.concatenate((intRBC,intWBC))\n",
    "trainY= np.concatenate((np.zeros((1,40)),np.ones((1,40))), axis=1).flatten()\n",
    "\n",
    "intRBC2=np.array(cannyImg_RBC)[41:51,:].astype(int)\n",
    "intWBC2=np.array(cannyImg_WBC)[41:75,:].astype(int)\n",
    "\n",
    "testX = np.concatenate((intRBC2,intWBC2))\n",
    "testY= np.concatenate((np.zeros((1,10)),np.ones((1,34))), axis=1).flatten()"
   ]
  },
  {
   "cell_type": "code",
   "execution_count": 2,
   "metadata": {
    "collapsed": false
   },
   "outputs": [
    {
     "name": "stdout",
     "output_type": "stream",
     "text": [
      "gnumpy: failed to import cudamat. Using npmat instead. No GPU will be used.\n"
     ]
    },
    {
     "name": "stderr",
     "output_type": "stream",
     "text": [
      "/Users/mahdokhtmasaeli/anaconda/lib/python2.7/site-packages/nolearn/dbn.py:17: UserWarning: \n",
      "The nolearn.dbn module will be removed in nolearn 0.6.  If you want to\n",
      "continue to use this module, please consider copying the code into\n",
      "your own project.  And take a look at Lasagne and nolearn.lasagne for\n",
      "a better neural net toolkit.\n",
      "\n",
      "  \"\"\")\n"
     ]
    }
   ],
   "source": [
    "# import the necessary packages\n",
    "from sklearn.cross_validation import train_test_split\n",
    "from sklearn.metrics import classification_report\n",
    "from sklearn import datasets\n",
    "from nolearn.dbn import DBN\n",
    "import numpy as np\n",
    "import cv2\n"
   ]
  },
  {
   "cell_type": "code",
   "execution_count": null,
   "metadata": {
    "collapsed": false
   },
   "outputs": [],
   "source": [
    "intRBC=np.array(cannyImg_RBC)[0:40,:].astype(int)\n",
    "intWBC=np.array(cannyImg_WBC)[0:60,:].astype(int)\n",
    "intErythroblast=np.array(cannyImg_Erythroblast)[0:60,:].astype(int)\n",
    "\n",
    "trainX = np.concatenate((intWBC,intErythroblast))\n",
    "trainY= np.concatenate((np.ones((1,60)),2*np.ones((1,60))), axis=1).flatten()\n",
    "\n",
    "intRBC2=np.array(cannyImg_RBC)[41:50,:].astype(int)\n",
    "intWBC2=np.array(cannyImg_WBC)[61:70,:].astype(int)\n",
    "intErythroblast2=np.array(cannyImg_Erythroblast)[61:70,:].astype(int)\n",
    "\n",
    "\n",
    "testX = np.concatenate((intWBC2,intErythroblast2))\n",
    "testY= np.concatenate((np.ones((1,9)),2*np.ones((1,9))), axis=1).flatten()"
   ]
  },
  {
   "cell_type": "code",
   "execution_count": 146,
   "metadata": {
    "collapsed": false
   },
   "outputs": [],
   "source": [
    "intRBC=np.array(cannyImg_RBC)[0:30,:].astype(int)\n",
    "intWBC=np.array(cannyImg_WBC)[0:52,:].astype(int)\n",
    "intErythroblast=np.array(cannyImg_Erythroblast)[0:75,:].astype(int)\n",
    "\n",
    "trainX = np.concatenate((intRBC,intWBC,intErythroblast))\n",
    "trainY= np.concatenate((np.zeros((1,30)),np.ones((1,52)),2*np.ones((1,75))), axis=1).flatten()\n",
    "\n",
    "intRBC2=np.array(cannyImg_RBC)[31:51,:].astype(int)\n",
    "intWBC2=np.array(cannyImg_WBC)[53:73,:].astype(int)\n",
    "intErythroblast2=np.array(cannyImg_Erythroblast)[76:96,:].astype(int)\n",
    "\n",
    "\n",
    "testX = np.concatenate((intRBC2,intWBC2,intErythroblast2))\n",
    "testY= np.concatenate((np.zeros((1,20)),np.ones((1,20)),2*np.ones((1,20))), axis=1).flatten()"
   ]
  },
  {
   "cell_type": "code",
   "execution_count": 139,
   "metadata": {
    "collapsed": false
   },
   "outputs": [
    {
     "data": {
      "text/plain": [
       "(30,)"
      ]
     },
     "execution_count": 139,
     "metadata": {},
     "output_type": "execute_result"
    }
   ],
   "source": [
    "testY.shape"
   ]
  },
  {
   "cell_type": "code",
   "execution_count": 160,
   "metadata": {
    "collapsed": false
   },
   "outputs": [],
   "source": [
    "dbn = DBN(\n",
    "\t[trainX.shape[1], 2000, 3],\n",
    "\tlearn_rates = 0.3,\n",
    "\tlearn_rate_decays = 0.9,\n",
    "\tepochs = 100,\n",
    "\tverbose = 0)\n",
    "dbn.fit(trainX, trainY)"
   ]
  },
  {
   "cell_type": "code",
   "execution_count": 161,
   "metadata": {
    "collapsed": false
   },
   "outputs": [
    {
     "name": "stdout",
     "output_type": "stream",
     "text": [
      "             precision    recall  f1-score   support\n",
      "\n",
      "        0.0       1.00      0.70      0.82        20\n",
      "        1.0       0.53      0.40      0.46        20\n",
      "        2.0       0.61      0.95      0.75        20\n",
      "\n",
      "avg / total       0.72      0.68      0.68        60\n",
      "\n"
     ]
    }
   ],
   "source": [
    "# compute the predictions for the test data and show a classification\n",
    "# report\n",
    "preds = dbn.predict(testX)\n",
    "print classification_report(testY, preds)"
   ]
  },
  {
   "cell_type": "code",
   "execution_count": 38,
   "metadata": {
    "collapsed": false
   },
   "outputs": [
    {
     "data": {
      "text/plain": [
       "59"
      ]
     },
     "execution_count": 38,
     "metadata": {},
     "output_type": "execute_result"
    }
   ],
   "source": [
    "len(y)"
   ]
  },
  {
   "cell_type": "code",
   "execution_count": 162,
   "metadata": {
    "collapsed": false
   },
   "outputs": [
    {
     "name": "stdout",
     "output_type": "stream",
     "text": [
      "Actual digit is 0.0, predicted 1.0\n",
      "Actual digit is 1.0, predicted 2.0\n",
      "Actual digit is 1.0, predicted 2.0\n",
      "Actual digit is 1.0, predicted 2.0\n",
      "Actual digit is 1.0, predicted 1.0\n",
      "Actual digit is 0.0, predicted 1.0\n",
      "Actual digit is 2.0, predicted 2.0\n",
      "Actual digit is 2.0, predicted 2.0\n",
      "Actual digit is 0.0, predicted 0.0\n",
      "Actual digit is 1.0, predicted 2.0\n",
      "Actual digit is 0.0, predicted 0.0\n",
      "Actual digit is 1.0, predicted 2.0\n",
      "Actual digit is 2.0, predicted 2.0\n",
      "Actual digit is 0.0, predicted 0.0\n",
      "Actual digit is 0.0, predicted 0.0\n",
      "Actual digit is 0.0, predicted 0.0\n",
      "Actual digit is 2.0, predicted 2.0\n",
      "Actual digit is 0.0, predicted 0.0\n",
      "Actual digit is 0.0, predicted 0.0\n",
      "Actual digit is 2.0, predicted 2.0\n",
      "Actual digit is 2.0, predicted 2.0\n",
      "Actual digit is 2.0, predicted 2.0\n",
      "Actual digit is 0.0, predicted 1.0\n",
      "Actual digit is 2.0, predicted 2.0\n",
      "Actual digit is 1.0, predicted 2.0\n",
      "Actual digit is 1.0, predicted 2.0\n",
      "Actual digit is 0.0, predicted 0.0\n",
      "Actual digit is 0.0, predicted 0.0\n",
      "Actual digit is 2.0, predicted 2.0\n",
      "Actual digit is 2.0, predicted 1.0\n"
     ]
    }
   ],
   "source": [
    "for i in np.random.choice(np.arange(0, len(testY)), size = (30,)):\n",
    "    # classify the digit\n",
    "    pred = dbn.predict(np.atleast_2d(testX[i]))\n",
    " \n",
    "    # reshape the feature vector to be a 28x28 pixel image, then change\n",
    "    # the data type to be an unsigned 8-bit integer\n",
    "    image = (testX[i] * 255).reshape((120, 120)).astype(\"uint8\")\n",
    " \n",
    "    # show the image and prediction\n",
    "    print \"Actual digit is {0}, predicted {1}\".format(testY[i], pred[0])\n",
    "    cv2.imshow(\"Digit\", image)\n",
    "    cv2.imwrite('/Users/mahdokhtmasaeli/Documents/image'+str(i)+\"Actual digit is {0}, predicted {1}\".format(testY[i], pred[0])+'.png',image)\n",
    "    "
   ]
  },
  {
   "cell_type": "code",
   "execution_count": 49,
   "metadata": {
    "collapsed": false
   },
   "outputs": [
    {
     "data": {
      "text/plain": [
       "'mage1'"
      ]
     },
     "execution_count": 49,
     "metadata": {},
     "output_type": "execute_result"
    }
   ],
   "source": [
    "i=1\n",
    "\"mage\"+str(i)"
   ]
  },
  {
   "cell_type": "code",
   "execution_count": null,
   "metadata": {
    "collapsed": false
   },
   "outputs": [],
   "source": [
    "W1.shape"
   ]
  },
  {
   "cell_type": "code",
   "execution_count": null,
   "metadata": {
    "collapsed": false
   },
   "outputs": [],
   "source": [
    "X.shape"
   ]
  },
  {
   "cell_type": "code",
   "execution_count": null,
   "metadata": {
    "collapsed": false
   },
   "outputs": [],
   "source": [
    "import numpy\n",
    "print numpy.__path__"
   ]
  },
  {
   "cell_type": "code",
   "execution_count": null,
   "metadata": {
    "collapsed": false
   },
   "outputs": [],
   "source": [
    "rm '/Users/mahdokhtmasaeli/anaconda/lib/python2.7/site-packages/numpy'"
   ]
  },
  {
   "cell_type": "code",
   "execution_count": null,
   "metadata": {
    "collapsed": true
   },
   "outputs": [],
   "source": []
  }
 ],
 "metadata": {
  "kernelspec": {
   "display_name": "Python 2",
   "language": "python",
   "name": "python2"
  },
  "language_info": {
   "codemirror_mode": {
    "name": "ipython",
    "version": 2
   },
   "file_extension": ".py",
   "mimetype": "text/x-python",
   "name": "python",
   "nbconvert_exporter": "python",
   "pygments_lexer": "ipython2",
   "version": "2.7.11"
  }
 },
 "nbformat": 4,
 "nbformat_minor": 0
}
